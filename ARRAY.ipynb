{
 "cells": [
  {
   "cell_type": "code",
   "execution_count": 3,
   "id": "018374b9",
   "metadata": {},
   "outputs": [
    {
     "name": "stdout",
     "output_type": "stream",
     "text": [
      "['R34', 'impreza', 'NSX']\n"
     ]
    }
   ],
   "source": [
    "mobil = [\"R34\", \"impreza\", \"NSX\"]\n",
    "mobilsaya = mobil.copy()\n",
    "print(mobil)"
   ]
  },
  {
   "cell_type": "code",
   "execution_count": 2,
   "id": "79073377",
   "metadata": {},
   "outputs": [
    {
     "name": "stdout",
     "output_type": "stream",
     "text": [
      "1\n"
     ]
    }
   ],
   "source": [
    "mobil = [\"audi\", \"mitsubishi\", \"chevrolet\"]\n",
    "x = mobil.count(\"chevrolet\")\n",
    "print(x)"
   ]
  },
  {
   "cell_type": "code",
   "execution_count": 5,
   "id": "463babe5",
   "metadata": {},
   "outputs": [
    {
     "name": "stdout",
     "output_type": "stream",
     "text": [
      "['R34', 'impreza', 'NSX', 'nissan', 'subaru', 'honda']\n"
     ]
    }
   ],
   "source": [
    "mobil = [\"R34\", \"impreza\", \"NSX\"]\n",
    "besutan = [\"nissan\", \"subaru\", \"honda\"]\n",
    "mobil.extend(besutan)\n",
    "print(mobil)"
   ]
  }
 ],
 "metadata": {
  "kernelspec": {
   "display_name": "Python 3 (ipykernel)",
   "language": "python",
   "name": "python3"
  },
  "language_info": {
   "codemirror_mode": {
    "name": "ipython",
    "version": 3
   },
   "file_extension": ".py",
   "mimetype": "text/x-python",
   "name": "python",
   "nbconvert_exporter": "python",
   "pygments_lexer": "ipython3",
   "version": "3.10.2"
  }
 },
 "nbformat": 4,
 "nbformat_minor": 5
}
